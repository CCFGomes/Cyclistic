{
 "cells": [
  {
   "cell_type": "markdown",
   "id": "849ec5bd",
   "metadata": {
    "papermill": {
     "duration": 0.009468,
     "end_time": "2023-06-23T22:23:11.323278",
     "exception": false,
     "start_time": "2023-06-23T22:23:11.313810",
     "status": "completed"
    },
    "tags": []
   },
   "source": [
    "Cyclistic Case Study"
   ]
  },
  {
   "cell_type": "markdown",
   "id": "6d5d09a0",
   "metadata": {
    "papermill": {
     "duration": 0.008988,
     "end_time": "2023-06-23T22:23:11.341498",
     "exception": false,
     "start_time": "2023-06-23T22:23:11.332510",
     "status": "completed"
    },
    "tags": []
   },
   "source": [
    "1. Scenario\n",
    "\n",
    "Cyclistic is a bike-share company in Chicago. It offers flexibility of its pricing plans: single-ride passes, full-day passes, and annual memberships. Customers who purchase single-ride or full-day passes are referred to as casual riders. Customers who purchase annual memberships are Cyclistic members. \n",
    "Cyclistic’s finance analysts have concluded that annual members are much more profitable than casual riders. The director of marketing believes the company’s future success depends on maximizing the number of annual memberships. \n"
   ]
  },
  {
   "cell_type": "markdown",
   "id": "822463df",
   "metadata": {
    "papermill": {
     "duration": 0.008155,
     "end_time": "2023-06-23T22:23:11.357967",
     "exception": false,
     "start_time": "2023-06-23T22:23:11.349812",
     "status": "completed"
    },
    "tags": []
   },
   "source": [
    "2. The purpose of the case study\n",
    "\n",
    "To identify and understand the differences in the usage patterns of Cyclistic bikes between annual members and casual riders. By doing so, we aim to develop an effective marketing strategy that encourages casual riders to upgrade to the annual subscription. Our insights from this study can drive business decisions by informing targeted marketing campaigns and potentially increasing revenue through increased subscription rates.\n"
   ]
  },
  {
   "cell_type": "markdown",
   "id": "6c1d604f",
   "metadata": {
    "papermill": {
     "duration": 0.008209,
     "end_time": "2023-06-23T22:23:11.374598",
     "exception": false,
     "start_time": "2023-06-23T22:23:11.366389",
     "status": "completed"
    },
    "tags": []
   },
   "source": [
    "3. Ask phase\n",
    "\n",
    "Our main objective (Business task) is to develop marketing strategies that effectively convert casual riders into annual members. The success of this project will be crucial for the growth of Cyclistic bike-share program, and it requires the collaboration of the stakeholders, which include Lily Moreno, the director of marketing and our manager, who will be responsible for implementing our recommendations; alongside the Cyclistic marketing analytics team, who will provide us with valuable data to analyze and report, and the Cyclistic executive team, who make the final decisions, will need to approve our proposed marketing program. By working together, we can create a successful marketing strategy that will drive growth for Cyclistic.\n"
   ]
  },
  {
   "cell_type": "markdown",
   "id": "571889f0",
   "metadata": {
    "papermill": {
     "duration": 0.00964,
     "end_time": "2023-06-23T22:23:11.392478",
     "exception": false,
     "start_time": "2023-06-23T22:23:11.382838",
     "status": "completed"
    },
    "tags": []
   },
   "source": [
    "4. Prepare Phase\n",
    "\n",
    "Motivate International Inc. has made the historical trip data of Cyclistic available under this license (https://www.divvybikes.com/data-license-agreement). This data is publicly available and can be used to explore how different customer types are using Cyclistic bikes. The open-source public data consists of 10 datasets that display data from April 2020 to December 2020, along with one file containing data from the first quarter. The files can be downloaded as compressed .csv files from [Cyclistic_Dataset](https://www.kaggle.com/datasets/timgid/cyclistic-dataset-google-certificate-capstone). \n",
    "\n"
   ]
  },
  {
   "cell_type": "markdown",
   "id": "e8243eb3",
   "metadata": {
    "papermill": {
     "duration": 0.008019,
     "end_time": "2023-06-23T22:23:11.408651",
     "exception": false,
     "start_time": "2023-06-23T22:23:11.400632",
     "status": "completed"
    },
    "tags": []
   },
   "source": [
    "5. Process phase\n",
    "\n",
    "This step will prepare the data for analysis. All the csv files will be merged into one file to improve workflow"
   ]
  },
  {
   "cell_type": "code",
   "execution_count": 1,
   "id": "1d86a7a6",
   "metadata": {
    "execution": {
     "iopub.execute_input": "2023-06-23T22:23:11.430826Z",
     "iopub.status.busy": "2023-06-23T22:23:11.427883Z",
     "iopub.status.idle": "2023-06-23T22:23:28.208843Z",
     "shell.execute_reply": "2023-06-23T22:23:28.206589Z"
    },
    "papermill": {
     "duration": 16.795966,
     "end_time": "2023-06-23T22:23:28.212715",
     "exception": false,
     "start_time": "2023-06-23T22:23:11.416749",
     "status": "completed"
    },
    "tags": []
   },
   "outputs": [
    {
     "name": "stderr",
     "output_type": "stream",
     "text": [
      "Installing package into ‘/usr/local/lib/R/site-library’\n",
      "(as ‘lib’ is unspecified)\n",
      "\n"
     ]
    }
   ],
   "source": [
    "#installing tidyverse package.\n",
    "#tidyverse is a collection of R packages specifically designed for working with data. \n",
    "install.packages(\"tidyverse\")\n"
   ]
  },
  {
   "cell_type": "code",
   "execution_count": 2,
   "id": "055d910f",
   "metadata": {
    "execution": {
     "iopub.execute_input": "2023-06-23T22:23:28.267887Z",
     "iopub.status.busy": "2023-06-23T22:23:28.231823Z",
     "iopub.status.idle": "2023-06-23T22:23:28.981296Z",
     "shell.execute_reply": "2023-06-23T22:23:28.979361Z"
    },
    "papermill": {
     "duration": 0.763206,
     "end_time": "2023-06-23T22:23:28.984657",
     "exception": false,
     "start_time": "2023-06-23T22:23:28.221451",
     "status": "completed"
    },
    "tags": []
   },
   "outputs": [
    {
     "name": "stderr",
     "output_type": "stream",
     "text": [
      "── \u001b[1mAttaching core tidyverse packages\u001b[22m ──────────────────────── tidyverse 2.0.0 ──\n",
      "\u001b[32m✔\u001b[39m \u001b[34mdplyr    \u001b[39m 1.1.2     \u001b[32m✔\u001b[39m \u001b[34mreadr    \u001b[39m 2.1.4\n",
      "\u001b[32m✔\u001b[39m \u001b[34mforcats  \u001b[39m 1.0.0     \u001b[32m✔\u001b[39m \u001b[34mstringr  \u001b[39m 1.5.0\n",
      "\u001b[32m✔\u001b[39m \u001b[34mggplot2  \u001b[39m 3.4.2     \u001b[32m✔\u001b[39m \u001b[34mtibble   \u001b[39m 3.2.1\n",
      "\u001b[32m✔\u001b[39m \u001b[34mlubridate\u001b[39m 1.9.2     \u001b[32m✔\u001b[39m \u001b[34mtidyr    \u001b[39m 1.3.0\n",
      "\u001b[32m✔\u001b[39m \u001b[34mpurrr    \u001b[39m 1.0.1     \n",
      "── \u001b[1mConflicts\u001b[22m ────────────────────────────────────────── tidyverse_conflicts() ──\n",
      "\u001b[31m✖\u001b[39m \u001b[34mdplyr\u001b[39m::\u001b[32mfilter()\u001b[39m masks \u001b[34mstats\u001b[39m::filter()\n",
      "\u001b[31m✖\u001b[39m \u001b[34mdplyr\u001b[39m::\u001b[32mlag()\u001b[39m    masks \u001b[34mstats\u001b[39m::lag()\n",
      "\u001b[36mℹ\u001b[39m Use the conflicted package (\u001b[3m\u001b[34m<http://conflicted.r-lib.org/>\u001b[39m\u001b[23m) to force all conflicts to become errors\n"
     ]
    }
   ],
   "source": [
    "#installing tidyverse library.\n",
    "#It’s a standard library for most data analysis.\n",
    "library(tidyverse)"
   ]
  },
  {
   "cell_type": "code",
   "execution_count": 3,
   "id": "0b2a6046",
   "metadata": {
    "execution": {
     "iopub.execute_input": "2023-06-23T22:23:29.006379Z",
     "iopub.status.busy": "2023-06-23T22:23:29.003885Z",
     "iopub.status.idle": "2023-06-23T22:25:52.910307Z",
     "shell.execute_reply": "2023-06-23T22:25:52.907389Z"
    },
    "papermill": {
     "duration": 143.931886,
     "end_time": "2023-06-23T22:25:52.924860",
     "exception": false,
     "start_time": "2023-06-23T22:23:28.992974",
     "status": "completed"
    },
    "tags": []
   },
   "outputs": [
    {
     "data": {
      "text/html": [
       "<table class=\"dataframe\">\n",
       "<caption>A data.frame: 6 × 13</caption>\n",
       "<thead>\n",
       "\t<tr><th></th><th scope=col>ride_id</th><th scope=col>rideable_type</th><th scope=col>started_at</th><th scope=col>ended_at</th><th scope=col>start_station_name</th><th scope=col>start_station_id</th><th scope=col>end_station_name</th><th scope=col>end_station_id</th><th scope=col>start_lat</th><th scope=col>start_lng</th><th scope=col>end_lat</th><th scope=col>end_lng</th><th scope=col>member_casual</th></tr>\n",
       "\t<tr><th></th><th scope=col>&lt;chr&gt;</th><th scope=col>&lt;chr&gt;</th><th scope=col>&lt;chr&gt;</th><th scope=col>&lt;chr&gt;</th><th scope=col>&lt;chr&gt;</th><th scope=col>&lt;chr&gt;</th><th scope=col>&lt;chr&gt;</th><th scope=col>&lt;chr&gt;</th><th scope=col>&lt;dbl&gt;</th><th scope=col>&lt;dbl&gt;</th><th scope=col>&lt;dbl&gt;</th><th scope=col>&lt;dbl&gt;</th><th scope=col>&lt;chr&gt;</th></tr>\n",
       "</thead>\n",
       "<tbody>\n",
       "\t<tr><th scope=row>1</th><td>A847FADBBC638E45</td><td>docked_bike</td><td>2020-04-26 17:45:14</td><td>2020-04-26 18:12:03</td><td><span style=white-space:pre-wrap>Eckhart Park                       </span></td><td>86 </td><td>Lincoln Ave &amp; Diversey Pkwy</td><td>152</td><td>41.8964</td><td>-87.6610</td><td>41.9322</td><td>-87.6586</td><td>member</td></tr>\n",
       "\t<tr><th scope=row>2</th><td>5405B80E996FF60D</td><td>docked_bike</td><td>2020-04-17 17:08:54</td><td>2020-04-17 17:17:03</td><td><span style=white-space:pre-wrap>Drake Ave &amp; Fullerton Ave          </span></td><td>503</td><td><span style=white-space:pre-wrap>Kosciuszko Park            </span></td><td>499</td><td>41.9244</td><td>-87.7154</td><td>41.9306</td><td>-87.7238</td><td>member</td></tr>\n",
       "\t<tr><th scope=row>3</th><td>5DD24A79A4E006F4</td><td>docked_bike</td><td>2020-04-01 17:54:13</td><td>2020-04-01 18:08:36</td><td><span style=white-space:pre-wrap>McClurg Ct &amp; Erie St               </span></td><td>142</td><td>Indiana Ave &amp; Roosevelt Rd </td><td>255</td><td>41.8945</td><td>-87.6179</td><td>41.8679</td><td>-87.6230</td><td>member</td></tr>\n",
       "\t<tr><th scope=row>4</th><td>2A59BBDF5CDBA725</td><td>docked_bike</td><td>2020-04-07 12:50:19</td><td>2020-04-07 13:02:31</td><td><span style=white-space:pre-wrap>California Ave &amp; Division St       </span></td><td>216</td><td><span style=white-space:pre-wrap>Wood St &amp; Augusta Blvd     </span></td><td>657</td><td>41.9030</td><td>-87.6975</td><td>41.8992</td><td>-87.6722</td><td>member</td></tr>\n",
       "\t<tr><th scope=row>5</th><td>27AD306C119C6158</td><td>docked_bike</td><td>2020-04-18 10:22:59</td><td>2020-04-18 11:15:54</td><td><span style=white-space:pre-wrap>Rush St &amp; Hubbard St               </span></td><td>125</td><td>Sheridan Rd &amp; Lawrence Ave </td><td>323</td><td>41.8902</td><td>-87.6262</td><td>41.9695</td><td>-87.6547</td><td>casual</td></tr>\n",
       "\t<tr><th scope=row>6</th><td>356216E875132F61</td><td>docked_bike</td><td>2020-04-30 17:55:47</td><td>2020-04-30 18:01:11</td><td>Mies van der Rohe Way &amp; Chicago Ave</td><td>173</td><td><span style=white-space:pre-wrap>Streeter Dr &amp; Grand Ave    </span></td><td>35 </td><td>41.8969</td><td>-87.6217</td><td>41.8923</td><td>-87.6120</td><td>member</td></tr>\n",
       "</tbody>\n",
       "</table>\n"
      ],
      "text/latex": [
       "A data.frame: 6 × 13\n",
       "\\begin{tabular}{r|lllllllllllll}\n",
       "  & ride\\_id & rideable\\_type & started\\_at & ended\\_at & start\\_station\\_name & start\\_station\\_id & end\\_station\\_name & end\\_station\\_id & start\\_lat & start\\_lng & end\\_lat & end\\_lng & member\\_casual\\\\\n",
       "  & <chr> & <chr> & <chr> & <chr> & <chr> & <chr> & <chr> & <chr> & <dbl> & <dbl> & <dbl> & <dbl> & <chr>\\\\\n",
       "\\hline\n",
       "\t1 & A847FADBBC638E45 & docked\\_bike & 2020-04-26 17:45:14 & 2020-04-26 18:12:03 & Eckhart Park                        & 86  & Lincoln Ave \\& Diversey Pkwy & 152 & 41.8964 & -87.6610 & 41.9322 & -87.6586 & member\\\\\n",
       "\t2 & 5405B80E996FF60D & docked\\_bike & 2020-04-17 17:08:54 & 2020-04-17 17:17:03 & Drake Ave \\& Fullerton Ave           & 503 & Kosciuszko Park             & 499 & 41.9244 & -87.7154 & 41.9306 & -87.7238 & member\\\\\n",
       "\t3 & 5DD24A79A4E006F4 & docked\\_bike & 2020-04-01 17:54:13 & 2020-04-01 18:08:36 & McClurg Ct \\& Erie St                & 142 & Indiana Ave \\& Roosevelt Rd  & 255 & 41.8945 & -87.6179 & 41.8679 & -87.6230 & member\\\\\n",
       "\t4 & 2A59BBDF5CDBA725 & docked\\_bike & 2020-04-07 12:50:19 & 2020-04-07 13:02:31 & California Ave \\& Division St        & 216 & Wood St \\& Augusta Blvd      & 657 & 41.9030 & -87.6975 & 41.8992 & -87.6722 & member\\\\\n",
       "\t5 & 27AD306C119C6158 & docked\\_bike & 2020-04-18 10:22:59 & 2020-04-18 11:15:54 & Rush St \\& Hubbard St                & 125 & Sheridan Rd \\& Lawrence Ave  & 323 & 41.8902 & -87.6262 & 41.9695 & -87.6547 & casual\\\\\n",
       "\t6 & 356216E875132F61 & docked\\_bike & 2020-04-30 17:55:47 & 2020-04-30 18:01:11 & Mies van der Rohe Way \\& Chicago Ave & 173 & Streeter Dr \\& Grand Ave     & 35  & 41.8969 & -87.6217 & 41.8923 & -87.6120 & member\\\\\n",
       "\\end{tabular}\n"
      ],
      "text/markdown": [
       "\n",
       "A data.frame: 6 × 13\n",
       "\n",
       "| <!--/--> | ride_id &lt;chr&gt; | rideable_type &lt;chr&gt; | started_at &lt;chr&gt; | ended_at &lt;chr&gt; | start_station_name &lt;chr&gt; | start_station_id &lt;chr&gt; | end_station_name &lt;chr&gt; | end_station_id &lt;chr&gt; | start_lat &lt;dbl&gt; | start_lng &lt;dbl&gt; | end_lat &lt;dbl&gt; | end_lng &lt;dbl&gt; | member_casual &lt;chr&gt; |\n",
       "|---|---|---|---|---|---|---|---|---|---|---|---|---|---|\n",
       "| 1 | A847FADBBC638E45 | docked_bike | 2020-04-26 17:45:14 | 2020-04-26 18:12:03 | Eckhart Park                        | 86  | Lincoln Ave &amp; Diversey Pkwy | 152 | 41.8964 | -87.6610 | 41.9322 | -87.6586 | member |\n",
       "| 2 | 5405B80E996FF60D | docked_bike | 2020-04-17 17:08:54 | 2020-04-17 17:17:03 | Drake Ave &amp; Fullerton Ave           | 503 | Kosciuszko Park             | 499 | 41.9244 | -87.7154 | 41.9306 | -87.7238 | member |\n",
       "| 3 | 5DD24A79A4E006F4 | docked_bike | 2020-04-01 17:54:13 | 2020-04-01 18:08:36 | McClurg Ct &amp; Erie St                | 142 | Indiana Ave &amp; Roosevelt Rd  | 255 | 41.8945 | -87.6179 | 41.8679 | -87.6230 | member |\n",
       "| 4 | 2A59BBDF5CDBA725 | docked_bike | 2020-04-07 12:50:19 | 2020-04-07 13:02:31 | California Ave &amp; Division St        | 216 | Wood St &amp; Augusta Blvd      | 657 | 41.9030 | -87.6975 | 41.8992 | -87.6722 | member |\n",
       "| 5 | 27AD306C119C6158 | docked_bike | 2020-04-18 10:22:59 | 2020-04-18 11:15:54 | Rush St &amp; Hubbard St                | 125 | Sheridan Rd &amp; Lawrence Ave  | 323 | 41.8902 | -87.6262 | 41.9695 | -87.6547 | casual |\n",
       "| 6 | 356216E875132F61 | docked_bike | 2020-04-30 17:55:47 | 2020-04-30 18:01:11 | Mies van der Rohe Way &amp; Chicago Ave | 173 | Streeter Dr &amp; Grand Ave     | 35  | 41.8969 | -87.6217 | 41.8923 | -87.6120 | member |\n",
       "\n"
      ],
      "text/plain": [
       "  ride_id          rideable_type started_at          ended_at           \n",
       "1 A847FADBBC638E45 docked_bike   2020-04-26 17:45:14 2020-04-26 18:12:03\n",
       "2 5405B80E996FF60D docked_bike   2020-04-17 17:08:54 2020-04-17 17:17:03\n",
       "3 5DD24A79A4E006F4 docked_bike   2020-04-01 17:54:13 2020-04-01 18:08:36\n",
       "4 2A59BBDF5CDBA725 docked_bike   2020-04-07 12:50:19 2020-04-07 13:02:31\n",
       "5 27AD306C119C6158 docked_bike   2020-04-18 10:22:59 2020-04-18 11:15:54\n",
       "6 356216E875132F61 docked_bike   2020-04-30 17:55:47 2020-04-30 18:01:11\n",
       "  start_station_name                  start_station_id\n",
       "1 Eckhart Park                        86              \n",
       "2 Drake Ave & Fullerton Ave           503             \n",
       "3 McClurg Ct & Erie St                142             \n",
       "4 California Ave & Division St        216             \n",
       "5 Rush St & Hubbard St                125             \n",
       "6 Mies van der Rohe Way & Chicago Ave 173             \n",
       "  end_station_name            end_station_id start_lat start_lng end_lat\n",
       "1 Lincoln Ave & Diversey Pkwy 152            41.8964   -87.6610  41.9322\n",
       "2 Kosciuszko Park             499            41.9244   -87.7154  41.9306\n",
       "3 Indiana Ave & Roosevelt Rd  255            41.8945   -87.6179  41.8679\n",
       "4 Wood St & Augusta Blvd      657            41.9030   -87.6975  41.8992\n",
       "5 Sheridan Rd & Lawrence Ave  323            41.8902   -87.6262  41.9695\n",
       "6 Streeter Dr & Grand Ave     35             41.8969   -87.6217  41.8923\n",
       "  end_lng  member_casual\n",
       "1 -87.6586 member       \n",
       "2 -87.7238 member       \n",
       "3 -87.6230 member       \n",
       "4 -87.6722 member       \n",
       "5 -87.6547 casual       \n",
       "6 -87.6120 member       "
      ]
     },
     "metadata": {},
     "output_type": "display_data"
    }
   ],
   "source": [
    "#concatanating files into one dataframe\n",
    "\n",
    "# List the file names of the CSV files to be concatenated\n",
    "csv_files <- list.files(path = \"../input\", recursive = TRUE, full.names=TRUE)\n",
    "\n",
    "# Initialize an empty data frame to store the concatenated data\n",
    "concatenated_data <- data.frame()\n",
    "\n",
    "# Iterate over each CSV file\n",
    "for (file in csv_files) {\n",
    "  # Read the CSV file and append its data to the concatenated_data data frame\n",
    "  data <- read.csv(file)\n",
    "  concatenated_data <- rbind(concatenated_data, data)\n",
    "}\n",
    "\n",
    "# Write the concatenated data to a new CSV file\n",
    "cyclistic_merged <- do.call(rbind, lapply(csv_files, read.csv))\n",
    "\n",
    "#using head() function to display the first few rows of a data frame\n",
    "head(cyclistic_merged)"
   ]
  },
  {
   "cell_type": "code",
   "execution_count": 4,
   "id": "2585cf0d",
   "metadata": {
    "execution": {
     "iopub.execute_input": "2023-06-23T22:25:52.946742Z",
     "iopub.status.busy": "2023-06-23T22:25:52.944988Z",
     "iopub.status.idle": "2023-06-23T22:25:58.634064Z",
     "shell.execute_reply": "2023-06-23T22:25:58.631923Z"
    },
    "papermill": {
     "duration": 5.703079,
     "end_time": "2023-06-23T22:25:58.636792",
     "exception": false,
     "start_time": "2023-06-23T22:25:52.933713",
     "status": "completed"
    },
    "tags": []
   },
   "outputs": [
    {
     "name": "stdout",
     "output_type": "stream",
     "text": [
      "[1] \"Removed 209 duplicated rows\"\n"
     ]
    }
   ],
   "source": [
    "#Data cleaning\n",
    "\n",
    "#Removing duplicates\n",
    "\n",
    "# removing duplicates based on the column ride_id in the cyclistic_merged data frame\n",
    "cyclistic_no_dups <- cyclistic_merged[!duplicated(cyclistic_merged$ride_id), ]\n",
    "print(paste(\"Removed\", nrow(cyclistic_merged) - nrow(cyclistic_no_dups), \"duplicated rows\"))\n",
    "\n"
   ]
  },
  {
   "cell_type": "code",
   "execution_count": 5,
   "id": "d26e3c06",
   "metadata": {
    "execution": {
     "iopub.execute_input": "2023-06-23T22:25:58.658942Z",
     "iopub.status.busy": "2023-06-23T22:25:58.657289Z",
     "iopub.status.idle": "2023-06-23T22:26:20.403192Z",
     "shell.execute_reply": "2023-06-23T22:26:20.400904Z"
    },
    "papermill": {
     "duration": 21.760969,
     "end_time": "2023-06-23T22:26:20.406912",
     "exception": false,
     "start_time": "2023-06-23T22:25:58.645943",
     "status": "completed"
    },
    "tags": []
   },
   "outputs": [
    {
     "name": "stderr",
     "output_type": "stream",
     "text": [
      "Installing package into ‘/usr/local/lib/R/site-library’\n",
      "(as ‘lib’ is unspecified)\n",
      "\n"
     ]
    }
   ],
   "source": [
    "install.packages(\"tidyr\")"
   ]
  },
  {
   "cell_type": "code",
   "execution_count": 6,
   "id": "cdcd622b",
   "metadata": {
    "execution": {
     "iopub.execute_input": "2023-06-23T22:26:20.430410Z",
     "iopub.status.busy": "2023-06-23T22:26:20.428472Z",
     "iopub.status.idle": "2023-06-23T22:26:21.951828Z",
     "shell.execute_reply": "2023-06-23T22:26:21.949934Z"
    },
    "papermill": {
     "duration": 1.537828,
     "end_time": "2023-06-23T22:26:21.954577",
     "exception": false,
     "start_time": "2023-06-23T22:26:20.416749",
     "status": "completed"
    },
    "tags": []
   },
   "outputs": [
    {
     "data": {
      "text/html": [
       "<table class=\"dataframe\">\n",
       "<caption>A data.frame: 6 × 13</caption>\n",
       "<thead>\n",
       "\t<tr><th></th><th scope=col>ride_id</th><th scope=col>rideable_type</th><th scope=col>started_at</th><th scope=col>ended_at</th><th scope=col>start_station_name</th><th scope=col>start_station_id</th><th scope=col>end_station_name</th><th scope=col>end_station_id</th><th scope=col>start_lat</th><th scope=col>start_lng</th><th scope=col>end_lat</th><th scope=col>end_lng</th><th scope=col>member_casual</th></tr>\n",
       "\t<tr><th></th><th scope=col>&lt;chr&gt;</th><th scope=col>&lt;chr&gt;</th><th scope=col>&lt;chr&gt;</th><th scope=col>&lt;chr&gt;</th><th scope=col>&lt;chr&gt;</th><th scope=col>&lt;chr&gt;</th><th scope=col>&lt;chr&gt;</th><th scope=col>&lt;chr&gt;</th><th scope=col>&lt;dbl&gt;</th><th scope=col>&lt;dbl&gt;</th><th scope=col>&lt;dbl&gt;</th><th scope=col>&lt;dbl&gt;</th><th scope=col>&lt;chr&gt;</th></tr>\n",
       "</thead>\n",
       "<tbody>\n",
       "\t<tr><th scope=row>1</th><td>A847FADBBC638E45</td><td>docked_bike</td><td>2020-04-26 17:45:14</td><td>2020-04-26 18:12:03</td><td><span style=white-space:pre-wrap>Eckhart Park                       </span></td><td>86 </td><td>Lincoln Ave &amp; Diversey Pkwy</td><td>152</td><td>41.8964</td><td>-87.6610</td><td>41.9322</td><td>-87.6586</td><td>member</td></tr>\n",
       "\t<tr><th scope=row>2</th><td>5405B80E996FF60D</td><td>docked_bike</td><td>2020-04-17 17:08:54</td><td>2020-04-17 17:17:03</td><td><span style=white-space:pre-wrap>Drake Ave &amp; Fullerton Ave          </span></td><td>503</td><td><span style=white-space:pre-wrap>Kosciuszko Park            </span></td><td>499</td><td>41.9244</td><td>-87.7154</td><td>41.9306</td><td>-87.7238</td><td>member</td></tr>\n",
       "\t<tr><th scope=row>3</th><td>5DD24A79A4E006F4</td><td>docked_bike</td><td>2020-04-01 17:54:13</td><td>2020-04-01 18:08:36</td><td><span style=white-space:pre-wrap>McClurg Ct &amp; Erie St               </span></td><td>142</td><td>Indiana Ave &amp; Roosevelt Rd </td><td>255</td><td>41.8945</td><td>-87.6179</td><td>41.8679</td><td>-87.6230</td><td>member</td></tr>\n",
       "\t<tr><th scope=row>4</th><td>2A59BBDF5CDBA725</td><td>docked_bike</td><td>2020-04-07 12:50:19</td><td>2020-04-07 13:02:31</td><td><span style=white-space:pre-wrap>California Ave &amp; Division St       </span></td><td>216</td><td><span style=white-space:pre-wrap>Wood St &amp; Augusta Blvd     </span></td><td>657</td><td>41.9030</td><td>-87.6975</td><td>41.8992</td><td>-87.6722</td><td>member</td></tr>\n",
       "\t<tr><th scope=row>5</th><td>27AD306C119C6158</td><td>docked_bike</td><td>2020-04-18 10:22:59</td><td>2020-04-18 11:15:54</td><td><span style=white-space:pre-wrap>Rush St &amp; Hubbard St               </span></td><td>125</td><td>Sheridan Rd &amp; Lawrence Ave </td><td>323</td><td>41.8902</td><td>-87.6262</td><td>41.9695</td><td>-87.6547</td><td>casual</td></tr>\n",
       "\t<tr><th scope=row>6</th><td>356216E875132F61</td><td>docked_bike</td><td>2020-04-30 17:55:47</td><td>2020-04-30 18:01:11</td><td>Mies van der Rohe Way &amp; Chicago Ave</td><td>173</td><td><span style=white-space:pre-wrap>Streeter Dr &amp; Grand Ave    </span></td><td>35 </td><td>41.8969</td><td>-87.6217</td><td>41.8923</td><td>-87.6120</td><td>member</td></tr>\n",
       "</tbody>\n",
       "</table>\n"
      ],
      "text/latex": [
       "A data.frame: 6 × 13\n",
       "\\begin{tabular}{r|lllllllllllll}\n",
       "  & ride\\_id & rideable\\_type & started\\_at & ended\\_at & start\\_station\\_name & start\\_station\\_id & end\\_station\\_name & end\\_station\\_id & start\\_lat & start\\_lng & end\\_lat & end\\_lng & member\\_casual\\\\\n",
       "  & <chr> & <chr> & <chr> & <chr> & <chr> & <chr> & <chr> & <chr> & <dbl> & <dbl> & <dbl> & <dbl> & <chr>\\\\\n",
       "\\hline\n",
       "\t1 & A847FADBBC638E45 & docked\\_bike & 2020-04-26 17:45:14 & 2020-04-26 18:12:03 & Eckhart Park                        & 86  & Lincoln Ave \\& Diversey Pkwy & 152 & 41.8964 & -87.6610 & 41.9322 & -87.6586 & member\\\\\n",
       "\t2 & 5405B80E996FF60D & docked\\_bike & 2020-04-17 17:08:54 & 2020-04-17 17:17:03 & Drake Ave \\& Fullerton Ave           & 503 & Kosciuszko Park             & 499 & 41.9244 & -87.7154 & 41.9306 & -87.7238 & member\\\\\n",
       "\t3 & 5DD24A79A4E006F4 & docked\\_bike & 2020-04-01 17:54:13 & 2020-04-01 18:08:36 & McClurg Ct \\& Erie St                & 142 & Indiana Ave \\& Roosevelt Rd  & 255 & 41.8945 & -87.6179 & 41.8679 & -87.6230 & member\\\\\n",
       "\t4 & 2A59BBDF5CDBA725 & docked\\_bike & 2020-04-07 12:50:19 & 2020-04-07 13:02:31 & California Ave \\& Division St        & 216 & Wood St \\& Augusta Blvd      & 657 & 41.9030 & -87.6975 & 41.8992 & -87.6722 & member\\\\\n",
       "\t5 & 27AD306C119C6158 & docked\\_bike & 2020-04-18 10:22:59 & 2020-04-18 11:15:54 & Rush St \\& Hubbard St                & 125 & Sheridan Rd \\& Lawrence Ave  & 323 & 41.8902 & -87.6262 & 41.9695 & -87.6547 & casual\\\\\n",
       "\t6 & 356216E875132F61 & docked\\_bike & 2020-04-30 17:55:47 & 2020-04-30 18:01:11 & Mies van der Rohe Way \\& Chicago Ave & 173 & Streeter Dr \\& Grand Ave     & 35  & 41.8969 & -87.6217 & 41.8923 & -87.6120 & member\\\\\n",
       "\\end{tabular}\n"
      ],
      "text/markdown": [
       "\n",
       "A data.frame: 6 × 13\n",
       "\n",
       "| <!--/--> | ride_id &lt;chr&gt; | rideable_type &lt;chr&gt; | started_at &lt;chr&gt; | ended_at &lt;chr&gt; | start_station_name &lt;chr&gt; | start_station_id &lt;chr&gt; | end_station_name &lt;chr&gt; | end_station_id &lt;chr&gt; | start_lat &lt;dbl&gt; | start_lng &lt;dbl&gt; | end_lat &lt;dbl&gt; | end_lng &lt;dbl&gt; | member_casual &lt;chr&gt; |\n",
       "|---|---|---|---|---|---|---|---|---|---|---|---|---|---|\n",
       "| 1 | A847FADBBC638E45 | docked_bike | 2020-04-26 17:45:14 | 2020-04-26 18:12:03 | Eckhart Park                        | 86  | Lincoln Ave &amp; Diversey Pkwy | 152 | 41.8964 | -87.6610 | 41.9322 | -87.6586 | member |\n",
       "| 2 | 5405B80E996FF60D | docked_bike | 2020-04-17 17:08:54 | 2020-04-17 17:17:03 | Drake Ave &amp; Fullerton Ave           | 503 | Kosciuszko Park             | 499 | 41.9244 | -87.7154 | 41.9306 | -87.7238 | member |\n",
       "| 3 | 5DD24A79A4E006F4 | docked_bike | 2020-04-01 17:54:13 | 2020-04-01 18:08:36 | McClurg Ct &amp; Erie St                | 142 | Indiana Ave &amp; Roosevelt Rd  | 255 | 41.8945 | -87.6179 | 41.8679 | -87.6230 | member |\n",
       "| 4 | 2A59BBDF5CDBA725 | docked_bike | 2020-04-07 12:50:19 | 2020-04-07 13:02:31 | California Ave &amp; Division St        | 216 | Wood St &amp; Augusta Blvd      | 657 | 41.9030 | -87.6975 | 41.8992 | -87.6722 | member |\n",
       "| 5 | 27AD306C119C6158 | docked_bike | 2020-04-18 10:22:59 | 2020-04-18 11:15:54 | Rush St &amp; Hubbard St                | 125 | Sheridan Rd &amp; Lawrence Ave  | 323 | 41.8902 | -87.6262 | 41.9695 | -87.6547 | casual |\n",
       "| 6 | 356216E875132F61 | docked_bike | 2020-04-30 17:55:47 | 2020-04-30 18:01:11 | Mies van der Rohe Way &amp; Chicago Ave | 173 | Streeter Dr &amp; Grand Ave     | 35  | 41.8969 | -87.6217 | 41.8923 | -87.6120 | member |\n",
       "\n"
      ],
      "text/plain": [
       "  ride_id          rideable_type started_at          ended_at           \n",
       "1 A847FADBBC638E45 docked_bike   2020-04-26 17:45:14 2020-04-26 18:12:03\n",
       "2 5405B80E996FF60D docked_bike   2020-04-17 17:08:54 2020-04-17 17:17:03\n",
       "3 5DD24A79A4E006F4 docked_bike   2020-04-01 17:54:13 2020-04-01 18:08:36\n",
       "4 2A59BBDF5CDBA725 docked_bike   2020-04-07 12:50:19 2020-04-07 13:02:31\n",
       "5 27AD306C119C6158 docked_bike   2020-04-18 10:22:59 2020-04-18 11:15:54\n",
       "6 356216E875132F61 docked_bike   2020-04-30 17:55:47 2020-04-30 18:01:11\n",
       "  start_station_name                  start_station_id\n",
       "1 Eckhart Park                        86              \n",
       "2 Drake Ave & Fullerton Ave           503             \n",
       "3 McClurg Ct & Erie St                142             \n",
       "4 California Ave & Division St        216             \n",
       "5 Rush St & Hubbard St                125             \n",
       "6 Mies van der Rohe Way & Chicago Ave 173             \n",
       "  end_station_name            end_station_id start_lat start_lng end_lat\n",
       "1 Lincoln Ave & Diversey Pkwy 152            41.8964   -87.6610  41.9322\n",
       "2 Kosciuszko Park             499            41.9244   -87.7154  41.9306\n",
       "3 Indiana Ave & Roosevelt Rd  255            41.8945   -87.6179  41.8679\n",
       "4 Wood St & Augusta Blvd      657            41.9030   -87.6975  41.8992\n",
       "5 Sheridan Rd & Lawrence Ave  323            41.8902   -87.6262  41.9695\n",
       "6 Streeter Dr & Grand Ave     35             41.8969   -87.6217  41.8923\n",
       "  end_lng  member_casual\n",
       "1 -87.6586 member       \n",
       "2 -87.7238 member       \n",
       "3 -87.6230 member       \n",
       "4 -87.6722 member       \n",
       "5 -87.6547 casual       \n",
       "6 -87.6120 member       "
      ]
     },
     "metadata": {},
     "output_type": "display_data"
    }
   ],
   "source": [
    "#removing missing values (NA)\n",
    "\n",
    "cyclistic_merged <- drop_na(cyclistic_merged)\n",
    "head(cyclistic_merged)\n"
   ]
  },
  {
   "cell_type": "code",
   "execution_count": 7,
   "id": "df185bdc",
   "metadata": {
    "execution": {
     "iopub.execute_input": "2023-06-23T22:26:21.977600Z",
     "iopub.status.busy": "2023-06-23T22:26:21.975934Z",
     "iopub.status.idle": "2023-06-23T22:26:44.544152Z",
     "shell.execute_reply": "2023-06-23T22:26:44.541846Z"
    },
    "papermill": {
     "duration": 22.583618,
     "end_time": "2023-06-23T22:26:44.547807",
     "exception": false,
     "start_time": "2023-06-23T22:26:21.964189",
     "status": "completed"
    },
    "tags": []
   },
   "outputs": [
    {
     "data": {
      "text/plain": [
       "     Min.   1st Qu.    Median      Mean   3rd Qu.      Max. \n",
       "-29049.97      7.63     14.07     26.52     25.93 156450.40 "
      ]
     },
     "metadata": {},
     "output_type": "display_data"
    }
   ],
   "source": [
    "#calculating the ride time in minutes (ride_time_m) by subtracting the started_at from the ended_at column\n",
    "#converting the result to minutes using the as.numeric() function. \n",
    "#summary() function is used to generate a summary of the ride_time_m column.\n",
    "cyclistic_no_dups <- cyclistic_no_dups %>%\n",
    "  mutate(ended_at = as.POSIXct(ended_at),\n",
    "         started_at = as.POSIXct(started_at),\n",
    "         ride_time_m = as.numeric(ended_at - started_at) / 60)\n",
    "\n",
    "summary(cyclistic_no_dups$ride_time_m)\n"
   ]
  },
  {
   "cell_type": "code",
   "execution_count": 8,
   "id": "ad6e3659",
   "metadata": {
    "execution": {
     "iopub.execute_input": "2023-06-23T22:26:44.571892Z",
     "iopub.status.busy": "2023-06-23T22:26:44.570129Z",
     "iopub.status.idle": "2023-06-23T22:26:45.324829Z",
     "shell.execute_reply": "2023-06-23T22:26:45.322879Z"
    },
    "papermill": {
     "duration": 0.769373,
     "end_time": "2023-06-23T22:26:45.327466",
     "exception": false,
     "start_time": "2023-06-23T22:26:44.558093",
     "status": "completed"
    },
    "tags": []
   },
   "outputs": [
    {
     "data": {
      "text/html": [
       "<table class=\"dataframe\">\n",
       "<caption>A data.frame: 6 × 15</caption>\n",
       "<thead>\n",
       "\t<tr><th></th><th scope=col>ride_id</th><th scope=col>rideable_type</th><th scope=col>started_at</th><th scope=col>ended_at</th><th scope=col>start_station_name</th><th scope=col>start_station_id</th><th scope=col>end_station_name</th><th scope=col>end_station_id</th><th scope=col>start_lat</th><th scope=col>start_lng</th><th scope=col>end_lat</th><th scope=col>end_lng</th><th scope=col>member_casual</th><th scope=col>ride_time_m</th><th scope=col>ride_length</th></tr>\n",
       "\t<tr><th></th><th scope=col>&lt;chr&gt;</th><th scope=col>&lt;chr&gt;</th><th scope=col>&lt;dttm&gt;</th><th scope=col>&lt;dttm&gt;</th><th scope=col>&lt;chr&gt;</th><th scope=col>&lt;chr&gt;</th><th scope=col>&lt;chr&gt;</th><th scope=col>&lt;chr&gt;</th><th scope=col>&lt;dbl&gt;</th><th scope=col>&lt;dbl&gt;</th><th scope=col>&lt;dbl&gt;</th><th scope=col>&lt;dbl&gt;</th><th scope=col>&lt;chr&gt;</th><th scope=col>&lt;dbl&gt;</th><th scope=col>&lt;drtn&gt;</th></tr>\n",
       "</thead>\n",
       "<tbody>\n",
       "\t<tr><th scope=row>1</th><td>A847FADBBC638E45</td><td>docked_bike</td><td>2020-04-26 17:45:14</td><td>2020-04-26 18:12:03</td><td><span style=white-space:pre-wrap>Eckhart Park                       </span></td><td>86 </td><td>Lincoln Ave &amp; Diversey Pkwy</td><td>152</td><td>41.8964</td><td>-87.6610</td><td>41.9322</td><td>-87.6586</td><td>member</td><td>26.81667</td><td>1609 secs</td></tr>\n",
       "\t<tr><th scope=row>2</th><td>5405B80E996FF60D</td><td>docked_bike</td><td>2020-04-17 17:08:54</td><td>2020-04-17 17:17:03</td><td><span style=white-space:pre-wrap>Drake Ave &amp; Fullerton Ave          </span></td><td>503</td><td><span style=white-space:pre-wrap>Kosciuszko Park            </span></td><td>499</td><td>41.9244</td><td>-87.7154</td><td>41.9306</td><td>-87.7238</td><td>member</td><td> 8.15000</td><td> 489 secs</td></tr>\n",
       "\t<tr><th scope=row>3</th><td>5DD24A79A4E006F4</td><td>docked_bike</td><td>2020-04-01 17:54:13</td><td>2020-04-01 18:08:36</td><td><span style=white-space:pre-wrap>McClurg Ct &amp; Erie St               </span></td><td>142</td><td>Indiana Ave &amp; Roosevelt Rd </td><td>255</td><td>41.8945</td><td>-87.6179</td><td>41.8679</td><td>-87.6230</td><td>member</td><td>14.38333</td><td> 863 secs</td></tr>\n",
       "\t<tr><th scope=row>4</th><td>2A59BBDF5CDBA725</td><td>docked_bike</td><td>2020-04-07 12:50:19</td><td>2020-04-07 13:02:31</td><td><span style=white-space:pre-wrap>California Ave &amp; Division St       </span></td><td>216</td><td><span style=white-space:pre-wrap>Wood St &amp; Augusta Blvd     </span></td><td>657</td><td>41.9030</td><td>-87.6975</td><td>41.8992</td><td>-87.6722</td><td>member</td><td>12.20000</td><td> 732 secs</td></tr>\n",
       "\t<tr><th scope=row>5</th><td>27AD306C119C6158</td><td>docked_bike</td><td>2020-04-18 10:22:59</td><td>2020-04-18 11:15:54</td><td><span style=white-space:pre-wrap>Rush St &amp; Hubbard St               </span></td><td>125</td><td>Sheridan Rd &amp; Lawrence Ave </td><td>323</td><td>41.8902</td><td>-87.6262</td><td>41.9695</td><td>-87.6547</td><td>casual</td><td>52.91667</td><td>3175 secs</td></tr>\n",
       "\t<tr><th scope=row>6</th><td>356216E875132F61</td><td>docked_bike</td><td>2020-04-30 17:55:47</td><td>2020-04-30 18:01:11</td><td>Mies van der Rohe Way &amp; Chicago Ave</td><td>173</td><td><span style=white-space:pre-wrap>Streeter Dr &amp; Grand Ave    </span></td><td>35 </td><td>41.8969</td><td>-87.6217</td><td>41.8923</td><td>-87.6120</td><td>member</td><td> 5.40000</td><td> 324 secs</td></tr>\n",
       "</tbody>\n",
       "</table>\n"
      ],
      "text/latex": [
       "A data.frame: 6 × 15\n",
       "\\begin{tabular}{r|lllllllllllllll}\n",
       "  & ride\\_id & rideable\\_type & started\\_at & ended\\_at & start\\_station\\_name & start\\_station\\_id & end\\_station\\_name & end\\_station\\_id & start\\_lat & start\\_lng & end\\_lat & end\\_lng & member\\_casual & ride\\_time\\_m & ride\\_length\\\\\n",
       "  & <chr> & <chr> & <dttm> & <dttm> & <chr> & <chr> & <chr> & <chr> & <dbl> & <dbl> & <dbl> & <dbl> & <chr> & <dbl> & <drtn>\\\\\n",
       "\\hline\n",
       "\t1 & A847FADBBC638E45 & docked\\_bike & 2020-04-26 17:45:14 & 2020-04-26 18:12:03 & Eckhart Park                        & 86  & Lincoln Ave \\& Diversey Pkwy & 152 & 41.8964 & -87.6610 & 41.9322 & -87.6586 & member & 26.81667 & 1609 secs\\\\\n",
       "\t2 & 5405B80E996FF60D & docked\\_bike & 2020-04-17 17:08:54 & 2020-04-17 17:17:03 & Drake Ave \\& Fullerton Ave           & 503 & Kosciuszko Park             & 499 & 41.9244 & -87.7154 & 41.9306 & -87.7238 & member &  8.15000 &  489 secs\\\\\n",
       "\t3 & 5DD24A79A4E006F4 & docked\\_bike & 2020-04-01 17:54:13 & 2020-04-01 18:08:36 & McClurg Ct \\& Erie St                & 142 & Indiana Ave \\& Roosevelt Rd  & 255 & 41.8945 & -87.6179 & 41.8679 & -87.6230 & member & 14.38333 &  863 secs\\\\\n",
       "\t4 & 2A59BBDF5CDBA725 & docked\\_bike & 2020-04-07 12:50:19 & 2020-04-07 13:02:31 & California Ave \\& Division St        & 216 & Wood St \\& Augusta Blvd      & 657 & 41.9030 & -87.6975 & 41.8992 & -87.6722 & member & 12.20000 &  732 secs\\\\\n",
       "\t5 & 27AD306C119C6158 & docked\\_bike & 2020-04-18 10:22:59 & 2020-04-18 11:15:54 & Rush St \\& Hubbard St                & 125 & Sheridan Rd \\& Lawrence Ave  & 323 & 41.8902 & -87.6262 & 41.9695 & -87.6547 & casual & 52.91667 & 3175 secs\\\\\n",
       "\t6 & 356216E875132F61 & docked\\_bike & 2020-04-30 17:55:47 & 2020-04-30 18:01:11 & Mies van der Rohe Way \\& Chicago Ave & 173 & Streeter Dr \\& Grand Ave     & 35  & 41.8969 & -87.6217 & 41.8923 & -87.6120 & member &  5.40000 &  324 secs\\\\\n",
       "\\end{tabular}\n"
      ],
      "text/markdown": [
       "\n",
       "A data.frame: 6 × 15\n",
       "\n",
       "| <!--/--> | ride_id &lt;chr&gt; | rideable_type &lt;chr&gt; | started_at &lt;dttm&gt; | ended_at &lt;dttm&gt; | start_station_name &lt;chr&gt; | start_station_id &lt;chr&gt; | end_station_name &lt;chr&gt; | end_station_id &lt;chr&gt; | start_lat &lt;dbl&gt; | start_lng &lt;dbl&gt; | end_lat &lt;dbl&gt; | end_lng &lt;dbl&gt; | member_casual &lt;chr&gt; | ride_time_m &lt;dbl&gt; | ride_length &lt;drtn&gt; |\n",
       "|---|---|---|---|---|---|---|---|---|---|---|---|---|---|---|---|\n",
       "| 1 | A847FADBBC638E45 | docked_bike | 2020-04-26 17:45:14 | 2020-04-26 18:12:03 | Eckhart Park                        | 86  | Lincoln Ave &amp; Diversey Pkwy | 152 | 41.8964 | -87.6610 | 41.9322 | -87.6586 | member | 26.81667 | 1609 secs |\n",
       "| 2 | 5405B80E996FF60D | docked_bike | 2020-04-17 17:08:54 | 2020-04-17 17:17:03 | Drake Ave &amp; Fullerton Ave           | 503 | Kosciuszko Park             | 499 | 41.9244 | -87.7154 | 41.9306 | -87.7238 | member |  8.15000 |  489 secs |\n",
       "| 3 | 5DD24A79A4E006F4 | docked_bike | 2020-04-01 17:54:13 | 2020-04-01 18:08:36 | McClurg Ct &amp; Erie St                | 142 | Indiana Ave &amp; Roosevelt Rd  | 255 | 41.8945 | -87.6179 | 41.8679 | -87.6230 | member | 14.38333 |  863 secs |\n",
       "| 4 | 2A59BBDF5CDBA725 | docked_bike | 2020-04-07 12:50:19 | 2020-04-07 13:02:31 | California Ave &amp; Division St        | 216 | Wood St &amp; Augusta Blvd      | 657 | 41.9030 | -87.6975 | 41.8992 | -87.6722 | member | 12.20000 |  732 secs |\n",
       "| 5 | 27AD306C119C6158 | docked_bike | 2020-04-18 10:22:59 | 2020-04-18 11:15:54 | Rush St &amp; Hubbard St                | 125 | Sheridan Rd &amp; Lawrence Ave  | 323 | 41.8902 | -87.6262 | 41.9695 | -87.6547 | casual | 52.91667 | 3175 secs |\n",
       "| 6 | 356216E875132F61 | docked_bike | 2020-04-30 17:55:47 | 2020-04-30 18:01:11 | Mies van der Rohe Way &amp; Chicago Ave | 173 | Streeter Dr &amp; Grand Ave     | 35  | 41.8969 | -87.6217 | 41.8923 | -87.6120 | member |  5.40000 |  324 secs |\n",
       "\n"
      ],
      "text/plain": [
       "  ride_id          rideable_type started_at          ended_at           \n",
       "1 A847FADBBC638E45 docked_bike   2020-04-26 17:45:14 2020-04-26 18:12:03\n",
       "2 5405B80E996FF60D docked_bike   2020-04-17 17:08:54 2020-04-17 17:17:03\n",
       "3 5DD24A79A4E006F4 docked_bike   2020-04-01 17:54:13 2020-04-01 18:08:36\n",
       "4 2A59BBDF5CDBA725 docked_bike   2020-04-07 12:50:19 2020-04-07 13:02:31\n",
       "5 27AD306C119C6158 docked_bike   2020-04-18 10:22:59 2020-04-18 11:15:54\n",
       "6 356216E875132F61 docked_bike   2020-04-30 17:55:47 2020-04-30 18:01:11\n",
       "  start_station_name                  start_station_id\n",
       "1 Eckhart Park                        86              \n",
       "2 Drake Ave & Fullerton Ave           503             \n",
       "3 McClurg Ct & Erie St                142             \n",
       "4 California Ave & Division St        216             \n",
       "5 Rush St & Hubbard St                125             \n",
       "6 Mies van der Rohe Way & Chicago Ave 173             \n",
       "  end_station_name            end_station_id start_lat start_lng end_lat\n",
       "1 Lincoln Ave & Diversey Pkwy 152            41.8964   -87.6610  41.9322\n",
       "2 Kosciuszko Park             499            41.9244   -87.7154  41.9306\n",
       "3 Indiana Ave & Roosevelt Rd  255            41.8945   -87.6179  41.8679\n",
       "4 Wood St & Augusta Blvd      657            41.9030   -87.6975  41.8992\n",
       "5 Sheridan Rd & Lawrence Ave  323            41.8902   -87.6262  41.9695\n",
       "6 Streeter Dr & Grand Ave     35             41.8969   -87.6217  41.8923\n",
       "  end_lng  member_casual ride_time_m ride_length\n",
       "1 -87.6586 member        26.81667    1609 secs  \n",
       "2 -87.7238 member         8.15000     489 secs  \n",
       "3 -87.6230 member        14.38333     863 secs  \n",
       "4 -87.6722 member        12.20000     732 secs  \n",
       "5 -87.6547 casual        52.91667    3175 secs  \n",
       "6 -87.6120 member         5.40000     324 secs  "
      ]
     },
     "metadata": {},
     "output_type": "display_data"
    }
   ],
   "source": [
    "#Converting data frame to a datetime format\n",
    "#This will be represented by POSIXct objects. \n",
    "#This allows for easier manipulation and analysis of the date and time values in subsequent data operations.\n",
    "\n",
    "#Converting the \"started_at\" and \"ended_at\" columns in the data frame cyclistic_no_dups to POSIXct (POSIXct is a class representing date and time values) format. \n",
    "#It uses the as.POSIXct() function to perform the conversion\n",
    "\n",
    "cyclistic_no_dups$started_at <- as.POSIXct(cyclistic_no_dups$started_at, \"%Y-%m-%d %H:%M:%S\")\n",
    "cyclistic_no_dups$ended_at <- as.POSIXct(cyclistic_no_dups$ended_at, \"%Y-%m-%d %H:%M:%S\")\n",
    "\n",
    "#creating a column called “ride_length, calculating the length of the rides.\n",
    "cyclistic_no_dups$ride_length <- as.POSIXct(cyclistic_no_dups$ended_at) - as.POSIXct(cyclistic_no_dups$started_at)\n",
    "\n",
    "head(cyclistic_no_dups)\n"
   ]
  },
  {
   "cell_type": "code",
   "execution_count": 9,
   "id": "cb17436c",
   "metadata": {
    "execution": {
     "iopub.execute_input": "2023-06-23T22:26:45.352838Z",
     "iopub.status.busy": "2023-06-23T22:26:45.351004Z",
     "iopub.status.idle": "2023-06-23T22:26:46.662326Z",
     "shell.execute_reply": "2023-06-23T22:26:46.660421Z"
    },
    "papermill": {
     "duration": 1.327586,
     "end_time": "2023-06-23T22:26:46.665375",
     "exception": false,
     "start_time": "2023-06-23T22:26:45.337789",
     "status": "completed"
    },
    "tags": []
   },
   "outputs": [
    {
     "data": {
      "text/html": [
       "<table class=\"dataframe\">\n",
       "<caption>A data.frame: 6 × 16</caption>\n",
       "<thead>\n",
       "\t<tr><th></th><th scope=col>ride_id</th><th scope=col>rideable_type</th><th scope=col>started_at</th><th scope=col>ended_at</th><th scope=col>start_station_name</th><th scope=col>start_station_id</th><th scope=col>end_station_name</th><th scope=col>end_station_id</th><th scope=col>start_lat</th><th scope=col>start_lng</th><th scope=col>end_lat</th><th scope=col>end_lng</th><th scope=col>member_casual</th><th scope=col>ride_time_m</th><th scope=col>ride_length</th><th scope=col>day_of_week</th></tr>\n",
       "\t<tr><th></th><th scope=col>&lt;chr&gt;</th><th scope=col>&lt;chr&gt;</th><th scope=col>&lt;dttm&gt;</th><th scope=col>&lt;dttm&gt;</th><th scope=col>&lt;chr&gt;</th><th scope=col>&lt;chr&gt;</th><th scope=col>&lt;chr&gt;</th><th scope=col>&lt;chr&gt;</th><th scope=col>&lt;dbl&gt;</th><th scope=col>&lt;dbl&gt;</th><th scope=col>&lt;dbl&gt;</th><th scope=col>&lt;dbl&gt;</th><th scope=col>&lt;chr&gt;</th><th scope=col>&lt;dbl&gt;</th><th scope=col>&lt;drtn&gt;</th><th scope=col>&lt;chr&gt;</th></tr>\n",
       "</thead>\n",
       "<tbody>\n",
       "\t<tr><th scope=row>1</th><td>A847FADBBC638E45</td><td>docked_bike</td><td>2020-04-26 17:45:14</td><td>2020-04-26 18:12:03</td><td><span style=white-space:pre-wrap>Eckhart Park                       </span></td><td>86 </td><td>Lincoln Ave &amp; Diversey Pkwy</td><td>152</td><td>41.8964</td><td>-87.6610</td><td>41.9322</td><td>-87.6586</td><td>member</td><td>26.81667</td><td>1609 secs</td><td><span style=white-space:pre-wrap>Sunday   </span></td></tr>\n",
       "\t<tr><th scope=row>2</th><td>5405B80E996FF60D</td><td>docked_bike</td><td>2020-04-17 17:08:54</td><td>2020-04-17 17:17:03</td><td><span style=white-space:pre-wrap>Drake Ave &amp; Fullerton Ave          </span></td><td>503</td><td><span style=white-space:pre-wrap>Kosciuszko Park            </span></td><td>499</td><td>41.9244</td><td>-87.7154</td><td>41.9306</td><td>-87.7238</td><td>member</td><td> 8.15000</td><td> 489 secs</td><td><span style=white-space:pre-wrap>Friday   </span></td></tr>\n",
       "\t<tr><th scope=row>3</th><td>5DD24A79A4E006F4</td><td>docked_bike</td><td>2020-04-01 17:54:13</td><td>2020-04-01 18:08:36</td><td><span style=white-space:pre-wrap>McClurg Ct &amp; Erie St               </span></td><td>142</td><td>Indiana Ave &amp; Roosevelt Rd </td><td>255</td><td>41.8945</td><td>-87.6179</td><td>41.8679</td><td>-87.6230</td><td>member</td><td>14.38333</td><td> 863 secs</td><td>Wednesday</td></tr>\n",
       "\t<tr><th scope=row>4</th><td>2A59BBDF5CDBA725</td><td>docked_bike</td><td>2020-04-07 12:50:19</td><td>2020-04-07 13:02:31</td><td><span style=white-space:pre-wrap>California Ave &amp; Division St       </span></td><td>216</td><td><span style=white-space:pre-wrap>Wood St &amp; Augusta Blvd     </span></td><td>657</td><td>41.9030</td><td>-87.6975</td><td>41.8992</td><td>-87.6722</td><td>member</td><td>12.20000</td><td> 732 secs</td><td><span style=white-space:pre-wrap>Tuesday  </span></td></tr>\n",
       "\t<tr><th scope=row>5</th><td>27AD306C119C6158</td><td>docked_bike</td><td>2020-04-18 10:22:59</td><td>2020-04-18 11:15:54</td><td><span style=white-space:pre-wrap>Rush St &amp; Hubbard St               </span></td><td>125</td><td>Sheridan Rd &amp; Lawrence Ave </td><td>323</td><td>41.8902</td><td>-87.6262</td><td>41.9695</td><td>-87.6547</td><td>casual</td><td>52.91667</td><td>3175 secs</td><td>Saturday </td></tr>\n",
       "\t<tr><th scope=row>6</th><td>356216E875132F61</td><td>docked_bike</td><td>2020-04-30 17:55:47</td><td>2020-04-30 18:01:11</td><td>Mies van der Rohe Way &amp; Chicago Ave</td><td>173</td><td><span style=white-space:pre-wrap>Streeter Dr &amp; Grand Ave    </span></td><td>35 </td><td>41.8969</td><td>-87.6217</td><td>41.8923</td><td>-87.6120</td><td>member</td><td> 5.40000</td><td> 324 secs</td><td>Thursday </td></tr>\n",
       "</tbody>\n",
       "</table>\n"
      ],
      "text/latex": [
       "A data.frame: 6 × 16\n",
       "\\begin{tabular}{r|llllllllllllllll}\n",
       "  & ride\\_id & rideable\\_type & started\\_at & ended\\_at & start\\_station\\_name & start\\_station\\_id & end\\_station\\_name & end\\_station\\_id & start\\_lat & start\\_lng & end\\_lat & end\\_lng & member\\_casual & ride\\_time\\_m & ride\\_length & day\\_of\\_week\\\\\n",
       "  & <chr> & <chr> & <dttm> & <dttm> & <chr> & <chr> & <chr> & <chr> & <dbl> & <dbl> & <dbl> & <dbl> & <chr> & <dbl> & <drtn> & <chr>\\\\\n",
       "\\hline\n",
       "\t1 & A847FADBBC638E45 & docked\\_bike & 2020-04-26 17:45:14 & 2020-04-26 18:12:03 & Eckhart Park                        & 86  & Lincoln Ave \\& Diversey Pkwy & 152 & 41.8964 & -87.6610 & 41.9322 & -87.6586 & member & 26.81667 & 1609 secs & Sunday   \\\\\n",
       "\t2 & 5405B80E996FF60D & docked\\_bike & 2020-04-17 17:08:54 & 2020-04-17 17:17:03 & Drake Ave \\& Fullerton Ave           & 503 & Kosciuszko Park             & 499 & 41.9244 & -87.7154 & 41.9306 & -87.7238 & member &  8.15000 &  489 secs & Friday   \\\\\n",
       "\t3 & 5DD24A79A4E006F4 & docked\\_bike & 2020-04-01 17:54:13 & 2020-04-01 18:08:36 & McClurg Ct \\& Erie St                & 142 & Indiana Ave \\& Roosevelt Rd  & 255 & 41.8945 & -87.6179 & 41.8679 & -87.6230 & member & 14.38333 &  863 secs & Wednesday\\\\\n",
       "\t4 & 2A59BBDF5CDBA725 & docked\\_bike & 2020-04-07 12:50:19 & 2020-04-07 13:02:31 & California Ave \\& Division St        & 216 & Wood St \\& Augusta Blvd      & 657 & 41.9030 & -87.6975 & 41.8992 & -87.6722 & member & 12.20000 &  732 secs & Tuesday  \\\\\n",
       "\t5 & 27AD306C119C6158 & docked\\_bike & 2020-04-18 10:22:59 & 2020-04-18 11:15:54 & Rush St \\& Hubbard St                & 125 & Sheridan Rd \\& Lawrence Ave  & 323 & 41.8902 & -87.6262 & 41.9695 & -87.6547 & casual & 52.91667 & 3175 secs & Saturday \\\\\n",
       "\t6 & 356216E875132F61 & docked\\_bike & 2020-04-30 17:55:47 & 2020-04-30 18:01:11 & Mies van der Rohe Way \\& Chicago Ave & 173 & Streeter Dr \\& Grand Ave     & 35  & 41.8969 & -87.6217 & 41.8923 & -87.6120 & member &  5.40000 &  324 secs & Thursday \\\\\n",
       "\\end{tabular}\n"
      ],
      "text/markdown": [
       "\n",
       "A data.frame: 6 × 16\n",
       "\n",
       "| <!--/--> | ride_id &lt;chr&gt; | rideable_type &lt;chr&gt; | started_at &lt;dttm&gt; | ended_at &lt;dttm&gt; | start_station_name &lt;chr&gt; | start_station_id &lt;chr&gt; | end_station_name &lt;chr&gt; | end_station_id &lt;chr&gt; | start_lat &lt;dbl&gt; | start_lng &lt;dbl&gt; | end_lat &lt;dbl&gt; | end_lng &lt;dbl&gt; | member_casual &lt;chr&gt; | ride_time_m &lt;dbl&gt; | ride_length &lt;drtn&gt; | day_of_week &lt;chr&gt; |\n",
       "|---|---|---|---|---|---|---|---|---|---|---|---|---|---|---|---|---|\n",
       "| 1 | A847FADBBC638E45 | docked_bike | 2020-04-26 17:45:14 | 2020-04-26 18:12:03 | Eckhart Park                        | 86  | Lincoln Ave &amp; Diversey Pkwy | 152 | 41.8964 | -87.6610 | 41.9322 | -87.6586 | member | 26.81667 | 1609 secs | Sunday    |\n",
       "| 2 | 5405B80E996FF60D | docked_bike | 2020-04-17 17:08:54 | 2020-04-17 17:17:03 | Drake Ave &amp; Fullerton Ave           | 503 | Kosciuszko Park             | 499 | 41.9244 | -87.7154 | 41.9306 | -87.7238 | member |  8.15000 |  489 secs | Friday    |\n",
       "| 3 | 5DD24A79A4E006F4 | docked_bike | 2020-04-01 17:54:13 | 2020-04-01 18:08:36 | McClurg Ct &amp; Erie St                | 142 | Indiana Ave &amp; Roosevelt Rd  | 255 | 41.8945 | -87.6179 | 41.8679 | -87.6230 | member | 14.38333 |  863 secs | Wednesday |\n",
       "| 4 | 2A59BBDF5CDBA725 | docked_bike | 2020-04-07 12:50:19 | 2020-04-07 13:02:31 | California Ave &amp; Division St        | 216 | Wood St &amp; Augusta Blvd      | 657 | 41.9030 | -87.6975 | 41.8992 | -87.6722 | member | 12.20000 |  732 secs | Tuesday   |\n",
       "| 5 | 27AD306C119C6158 | docked_bike | 2020-04-18 10:22:59 | 2020-04-18 11:15:54 | Rush St &amp; Hubbard St                | 125 | Sheridan Rd &amp; Lawrence Ave  | 323 | 41.8902 | -87.6262 | 41.9695 | -87.6547 | casual | 52.91667 | 3175 secs | Saturday  |\n",
       "| 6 | 356216E875132F61 | docked_bike | 2020-04-30 17:55:47 | 2020-04-30 18:01:11 | Mies van der Rohe Way &amp; Chicago Ave | 173 | Streeter Dr &amp; Grand Ave     | 35  | 41.8969 | -87.6217 | 41.8923 | -87.6120 | member |  5.40000 |  324 secs | Thursday  |\n",
       "\n"
      ],
      "text/plain": [
       "  ride_id          rideable_type started_at          ended_at           \n",
       "1 A847FADBBC638E45 docked_bike   2020-04-26 17:45:14 2020-04-26 18:12:03\n",
       "2 5405B80E996FF60D docked_bike   2020-04-17 17:08:54 2020-04-17 17:17:03\n",
       "3 5DD24A79A4E006F4 docked_bike   2020-04-01 17:54:13 2020-04-01 18:08:36\n",
       "4 2A59BBDF5CDBA725 docked_bike   2020-04-07 12:50:19 2020-04-07 13:02:31\n",
       "5 27AD306C119C6158 docked_bike   2020-04-18 10:22:59 2020-04-18 11:15:54\n",
       "6 356216E875132F61 docked_bike   2020-04-30 17:55:47 2020-04-30 18:01:11\n",
       "  start_station_name                  start_station_id\n",
       "1 Eckhart Park                        86              \n",
       "2 Drake Ave & Fullerton Ave           503             \n",
       "3 McClurg Ct & Erie St                142             \n",
       "4 California Ave & Division St        216             \n",
       "5 Rush St & Hubbard St                125             \n",
       "6 Mies van der Rohe Way & Chicago Ave 173             \n",
       "  end_station_name            end_station_id start_lat start_lng end_lat\n",
       "1 Lincoln Ave & Diversey Pkwy 152            41.8964   -87.6610  41.9322\n",
       "2 Kosciuszko Park             499            41.9244   -87.7154  41.9306\n",
       "3 Indiana Ave & Roosevelt Rd  255            41.8945   -87.6179  41.8679\n",
       "4 Wood St & Augusta Blvd      657            41.9030   -87.6975  41.8992\n",
       "5 Sheridan Rd & Lawrence Ave  323            41.8902   -87.6262  41.9695\n",
       "6 Streeter Dr & Grand Ave     35             41.8969   -87.6217  41.8923\n",
       "  end_lng  member_casual ride_time_m ride_length day_of_week\n",
       "1 -87.6586 member        26.81667    1609 secs   Sunday     \n",
       "2 -87.7238 member         8.15000     489 secs   Friday     \n",
       "3 -87.6230 member        14.38333     863 secs   Wednesday  \n",
       "4 -87.6722 member        12.20000     732 secs   Tuesday    \n",
       "5 -87.6547 casual        52.91667    3175 secs   Saturday   \n",
       "6 -87.6120 member         5.40000     324 secs   Thursday   "
      ]
     },
     "metadata": {},
     "output_type": "display_data"
    }
   ],
   "source": [
    "#Creating a column called “day_of_week,” and calculate the day of the week that each ride started using the “WEEKDAY” command \n",
    "cyclistic_no_dups$day_of_week <- weekdays(as.Date(cyclistic_no_dups$started_at))\n",
    "head(cyclistic_no_dups)\n"
   ]
  },
  {
   "cell_type": "code",
   "execution_count": 10,
   "id": "03d8402c",
   "metadata": {
    "execution": {
     "iopub.execute_input": "2023-06-23T22:26:46.690861Z",
     "iopub.status.busy": "2023-06-23T22:26:46.689109Z",
     "iopub.status.idle": "2023-06-23T22:26:47.460239Z",
     "shell.execute_reply": "2023-06-23T22:26:47.457665Z"
    },
    "papermill": {
     "duration": 0.787476,
     "end_time": "2023-06-23T22:26:47.463487",
     "exception": false,
     "start_time": "2023-06-23T22:26:46.676011",
     "status": "completed"
    },
    "tags": []
   },
   "outputs": [
    {
     "data": {
      "text/html": [
       "<table class=\"dataframe\">\n",
       "<caption>A data.frame: 6 × 16</caption>\n",
       "<thead>\n",
       "\t<tr><th></th><th scope=col>ride_id</th><th scope=col>rideable_type</th><th scope=col>started_at</th><th scope=col>ended_at</th><th scope=col>start_station_name</th><th scope=col>start_station_id</th><th scope=col>end_station_name</th><th scope=col>end_station_id</th><th scope=col>start_lat</th><th scope=col>start_lng</th><th scope=col>end_lat</th><th scope=col>end_lng</th><th scope=col>member_casual</th><th scope=col>ride_time_m</th><th scope=col>ride_length</th><th scope=col>day_of_week</th></tr>\n",
       "\t<tr><th></th><th scope=col>&lt;chr&gt;</th><th scope=col>&lt;chr&gt;</th><th scope=col>&lt;dttm&gt;</th><th scope=col>&lt;dttm&gt;</th><th scope=col>&lt;chr&gt;</th><th scope=col>&lt;chr&gt;</th><th scope=col>&lt;chr&gt;</th><th scope=col>&lt;chr&gt;</th><th scope=col>&lt;dbl&gt;</th><th scope=col>&lt;dbl&gt;</th><th scope=col>&lt;dbl&gt;</th><th scope=col>&lt;dbl&gt;</th><th scope=col>&lt;chr&gt;</th><th scope=col>&lt;dbl&gt;</th><th scope=col>&lt;drtn&gt;</th><th scope=col>&lt;int&gt;</th></tr>\n",
       "</thead>\n",
       "<tbody>\n",
       "\t<tr><th scope=row>1</th><td>A847FADBBC638E45</td><td>docked_bike</td><td>2020-04-26 17:45:14</td><td>2020-04-26 18:12:03</td><td><span style=white-space:pre-wrap>Eckhart Park                       </span></td><td>86 </td><td>Lincoln Ave &amp; Diversey Pkwy</td><td>152</td><td>41.8964</td><td>-87.6610</td><td>41.9322</td><td>-87.6586</td><td>member</td><td>26.81667</td><td>1609 secs</td><td>1</td></tr>\n",
       "\t<tr><th scope=row>2</th><td>5405B80E996FF60D</td><td>docked_bike</td><td>2020-04-17 17:08:54</td><td>2020-04-17 17:17:03</td><td><span style=white-space:pre-wrap>Drake Ave &amp; Fullerton Ave          </span></td><td>503</td><td><span style=white-space:pre-wrap>Kosciuszko Park            </span></td><td>499</td><td>41.9244</td><td>-87.7154</td><td>41.9306</td><td>-87.7238</td><td>member</td><td> 8.15000</td><td> 489 secs</td><td>6</td></tr>\n",
       "\t<tr><th scope=row>3</th><td>5DD24A79A4E006F4</td><td>docked_bike</td><td>2020-04-01 17:54:13</td><td>2020-04-01 18:08:36</td><td><span style=white-space:pre-wrap>McClurg Ct &amp; Erie St               </span></td><td>142</td><td>Indiana Ave &amp; Roosevelt Rd </td><td>255</td><td>41.8945</td><td>-87.6179</td><td>41.8679</td><td>-87.6230</td><td>member</td><td>14.38333</td><td> 863 secs</td><td>4</td></tr>\n",
       "\t<tr><th scope=row>4</th><td>2A59BBDF5CDBA725</td><td>docked_bike</td><td>2020-04-07 12:50:19</td><td>2020-04-07 13:02:31</td><td><span style=white-space:pre-wrap>California Ave &amp; Division St       </span></td><td>216</td><td><span style=white-space:pre-wrap>Wood St &amp; Augusta Blvd     </span></td><td>657</td><td>41.9030</td><td>-87.6975</td><td>41.8992</td><td>-87.6722</td><td>member</td><td>12.20000</td><td> 732 secs</td><td>3</td></tr>\n",
       "\t<tr><th scope=row>5</th><td>27AD306C119C6158</td><td>docked_bike</td><td>2020-04-18 10:22:59</td><td>2020-04-18 11:15:54</td><td><span style=white-space:pre-wrap>Rush St &amp; Hubbard St               </span></td><td>125</td><td>Sheridan Rd &amp; Lawrence Ave </td><td>323</td><td>41.8902</td><td>-87.6262</td><td>41.9695</td><td>-87.6547</td><td>casual</td><td>52.91667</td><td>3175 secs</td><td>7</td></tr>\n",
       "\t<tr><th scope=row>6</th><td>356216E875132F61</td><td>docked_bike</td><td>2020-04-30 17:55:47</td><td>2020-04-30 18:01:11</td><td>Mies van der Rohe Way &amp; Chicago Ave</td><td>173</td><td><span style=white-space:pre-wrap>Streeter Dr &amp; Grand Ave    </span></td><td>35 </td><td>41.8969</td><td>-87.6217</td><td>41.8923</td><td>-87.6120</td><td>member</td><td> 5.40000</td><td> 324 secs</td><td>5</td></tr>\n",
       "</tbody>\n",
       "</table>\n"
      ],
      "text/latex": [
       "A data.frame: 6 × 16\n",
       "\\begin{tabular}{r|llllllllllllllll}\n",
       "  & ride\\_id & rideable\\_type & started\\_at & ended\\_at & start\\_station\\_name & start\\_station\\_id & end\\_station\\_name & end\\_station\\_id & start\\_lat & start\\_lng & end\\_lat & end\\_lng & member\\_casual & ride\\_time\\_m & ride\\_length & day\\_of\\_week\\\\\n",
       "  & <chr> & <chr> & <dttm> & <dttm> & <chr> & <chr> & <chr> & <chr> & <dbl> & <dbl> & <dbl> & <dbl> & <chr> & <dbl> & <drtn> & <int>\\\\\n",
       "\\hline\n",
       "\t1 & A847FADBBC638E45 & docked\\_bike & 2020-04-26 17:45:14 & 2020-04-26 18:12:03 & Eckhart Park                        & 86  & Lincoln Ave \\& Diversey Pkwy & 152 & 41.8964 & -87.6610 & 41.9322 & -87.6586 & member & 26.81667 & 1609 secs & 1\\\\\n",
       "\t2 & 5405B80E996FF60D & docked\\_bike & 2020-04-17 17:08:54 & 2020-04-17 17:17:03 & Drake Ave \\& Fullerton Ave           & 503 & Kosciuszko Park             & 499 & 41.9244 & -87.7154 & 41.9306 & -87.7238 & member &  8.15000 &  489 secs & 6\\\\\n",
       "\t3 & 5DD24A79A4E006F4 & docked\\_bike & 2020-04-01 17:54:13 & 2020-04-01 18:08:36 & McClurg Ct \\& Erie St                & 142 & Indiana Ave \\& Roosevelt Rd  & 255 & 41.8945 & -87.6179 & 41.8679 & -87.6230 & member & 14.38333 &  863 secs & 4\\\\\n",
       "\t4 & 2A59BBDF5CDBA725 & docked\\_bike & 2020-04-07 12:50:19 & 2020-04-07 13:02:31 & California Ave \\& Division St        & 216 & Wood St \\& Augusta Blvd      & 657 & 41.9030 & -87.6975 & 41.8992 & -87.6722 & member & 12.20000 &  732 secs & 3\\\\\n",
       "\t5 & 27AD306C119C6158 & docked\\_bike & 2020-04-18 10:22:59 & 2020-04-18 11:15:54 & Rush St \\& Hubbard St                & 125 & Sheridan Rd \\& Lawrence Ave  & 323 & 41.8902 & -87.6262 & 41.9695 & -87.6547 & casual & 52.91667 & 3175 secs & 7\\\\\n",
       "\t6 & 356216E875132F61 & docked\\_bike & 2020-04-30 17:55:47 & 2020-04-30 18:01:11 & Mies van der Rohe Way \\& Chicago Ave & 173 & Streeter Dr \\& Grand Ave     & 35  & 41.8969 & -87.6217 & 41.8923 & -87.6120 & member &  5.40000 &  324 secs & 5\\\\\n",
       "\\end{tabular}\n"
      ],
      "text/markdown": [
       "\n",
       "A data.frame: 6 × 16\n",
       "\n",
       "| <!--/--> | ride_id &lt;chr&gt; | rideable_type &lt;chr&gt; | started_at &lt;dttm&gt; | ended_at &lt;dttm&gt; | start_station_name &lt;chr&gt; | start_station_id &lt;chr&gt; | end_station_name &lt;chr&gt; | end_station_id &lt;chr&gt; | start_lat &lt;dbl&gt; | start_lng &lt;dbl&gt; | end_lat &lt;dbl&gt; | end_lng &lt;dbl&gt; | member_casual &lt;chr&gt; | ride_time_m &lt;dbl&gt; | ride_length &lt;drtn&gt; | day_of_week &lt;int&gt; |\n",
       "|---|---|---|---|---|---|---|---|---|---|---|---|---|---|---|---|---|\n",
       "| 1 | A847FADBBC638E45 | docked_bike | 2020-04-26 17:45:14 | 2020-04-26 18:12:03 | Eckhart Park                        | 86  | Lincoln Ave &amp; Diversey Pkwy | 152 | 41.8964 | -87.6610 | 41.9322 | -87.6586 | member | 26.81667 | 1609 secs | 1 |\n",
       "| 2 | 5405B80E996FF60D | docked_bike | 2020-04-17 17:08:54 | 2020-04-17 17:17:03 | Drake Ave &amp; Fullerton Ave           | 503 | Kosciuszko Park             | 499 | 41.9244 | -87.7154 | 41.9306 | -87.7238 | member |  8.15000 |  489 secs | 6 |\n",
       "| 3 | 5DD24A79A4E006F4 | docked_bike | 2020-04-01 17:54:13 | 2020-04-01 18:08:36 | McClurg Ct &amp; Erie St                | 142 | Indiana Ave &amp; Roosevelt Rd  | 255 | 41.8945 | -87.6179 | 41.8679 | -87.6230 | member | 14.38333 |  863 secs | 4 |\n",
       "| 4 | 2A59BBDF5CDBA725 | docked_bike | 2020-04-07 12:50:19 | 2020-04-07 13:02:31 | California Ave &amp; Division St        | 216 | Wood St &amp; Augusta Blvd      | 657 | 41.9030 | -87.6975 | 41.8992 | -87.6722 | member | 12.20000 |  732 secs | 3 |\n",
       "| 5 | 27AD306C119C6158 | docked_bike | 2020-04-18 10:22:59 | 2020-04-18 11:15:54 | Rush St &amp; Hubbard St                | 125 | Sheridan Rd &amp; Lawrence Ave  | 323 | 41.8902 | -87.6262 | 41.9695 | -87.6547 | casual | 52.91667 | 3175 secs | 7 |\n",
       "| 6 | 356216E875132F61 | docked_bike | 2020-04-30 17:55:47 | 2020-04-30 18:01:11 | Mies van der Rohe Way &amp; Chicago Ave | 173 | Streeter Dr &amp; Grand Ave     | 35  | 41.8969 | -87.6217 | 41.8923 | -87.6120 | member |  5.40000 |  324 secs | 5 |\n",
       "\n"
      ],
      "text/plain": [
       "  ride_id          rideable_type started_at          ended_at           \n",
       "1 A847FADBBC638E45 docked_bike   2020-04-26 17:45:14 2020-04-26 18:12:03\n",
       "2 5405B80E996FF60D docked_bike   2020-04-17 17:08:54 2020-04-17 17:17:03\n",
       "3 5DD24A79A4E006F4 docked_bike   2020-04-01 17:54:13 2020-04-01 18:08:36\n",
       "4 2A59BBDF5CDBA725 docked_bike   2020-04-07 12:50:19 2020-04-07 13:02:31\n",
       "5 27AD306C119C6158 docked_bike   2020-04-18 10:22:59 2020-04-18 11:15:54\n",
       "6 356216E875132F61 docked_bike   2020-04-30 17:55:47 2020-04-30 18:01:11\n",
       "  start_station_name                  start_station_id\n",
       "1 Eckhart Park                        86              \n",
       "2 Drake Ave & Fullerton Ave           503             \n",
       "3 McClurg Ct & Erie St                142             \n",
       "4 California Ave & Division St        216             \n",
       "5 Rush St & Hubbard St                125             \n",
       "6 Mies van der Rohe Way & Chicago Ave 173             \n",
       "  end_station_name            end_station_id start_lat start_lng end_lat\n",
       "1 Lincoln Ave & Diversey Pkwy 152            41.8964   -87.6610  41.9322\n",
       "2 Kosciuszko Park             499            41.9244   -87.7154  41.9306\n",
       "3 Indiana Ave & Roosevelt Rd  255            41.8945   -87.6179  41.8679\n",
       "4 Wood St & Augusta Blvd      657            41.9030   -87.6975  41.8992\n",
       "5 Sheridan Rd & Lawrence Ave  323            41.8902   -87.6262  41.9695\n",
       "6 Streeter Dr & Grand Ave     35             41.8969   -87.6217  41.8923\n",
       "  end_lng  member_casual ride_time_m ride_length day_of_week\n",
       "1 -87.6586 member        26.81667    1609 secs   1          \n",
       "2 -87.7238 member         8.15000     489 secs   6          \n",
       "3 -87.6230 member        14.38333     863 secs   4          \n",
       "4 -87.6722 member        12.20000     732 secs   3          \n",
       "5 -87.6547 casual        52.91667    3175 secs   7          \n",
       "6 -87.6120 member         5.40000     324 secs   5          "
      ]
     },
     "metadata": {},
     "output_type": "display_data"
    }
   ],
   "source": [
    "#Formatting as a number with no decimals\n",
    "# 1 = Sunday and 7 = Saturday.\n",
    "cyclistic_no_dups$day_of_week <- as.integer(factor(cyclistic_no_dups$day_of_week, levels = c(\"Sunday\", \"Monday\", \"Tuesday\", \"Wednesday\", \"Thursday\", \"Friday\", \"Saturday\")))\n",
    "head(cyclistic_no_dups)\n"
   ]
  },
  {
   "cell_type": "markdown",
   "id": "a9307e31",
   "metadata": {
    "papermill": {
     "duration": 0.010985,
     "end_time": "2023-06-23T22:26:47.485523",
     "exception": false,
     "start_time": "2023-06-23T22:26:47.474538",
     "status": "completed"
    },
    "tags": []
   },
   "source": [
    "6. Analyze phase\n",
    "\n",
    "Descriptive analysis"
   ]
  },
  {
   "cell_type": "code",
   "execution_count": 11,
   "id": "dae36ae8",
   "metadata": {
    "execution": {
     "iopub.execute_input": "2023-06-23T22:26:47.511733Z",
     "iopub.status.busy": "2023-06-23T22:26:47.509925Z",
     "iopub.status.idle": "2023-06-23T22:26:47.828231Z",
     "shell.execute_reply": "2023-06-23T22:26:47.826428Z"
    },
    "papermill": {
     "duration": 0.334277,
     "end_time": "2023-06-23T22:26:47.830807",
     "exception": false,
     "start_time": "2023-06-23T22:26:47.496530",
     "status": "completed"
    },
    "tags": []
   },
   "outputs": [
    {
     "data": {
      "text/plain": [
       "  Length    Class     Mode \n",
       " 3541474 difftime  numeric "
      ]
     },
     "metadata": {},
     "output_type": "display_data"
    },
    {
     "data": {
      "text/plain": [
       "\n",
       "     1      2      3      4      5      6      7 \n",
       "527220 433696 452858 482008 491278 528235 626179 "
      ]
     },
     "metadata": {},
     "output_type": "display_data"
    }
   ],
   "source": [
    "#Summary Statistics:\n",
    "\n",
    "# Summary statistics for numerical variables\n",
    "summary(cyclistic_no_dups$ride_length)\n",
    "\n",
    "# Summary statistics for categorical variables\n",
    "table(cyclistic_no_dups$day_of_week)"
   ]
  },
  {
   "cell_type": "code",
   "execution_count": 12,
   "id": "1a880a71",
   "metadata": {
    "execution": {
     "iopub.execute_input": "2023-06-23T22:26:47.858127Z",
     "iopub.status.busy": "2023-06-23T22:26:47.856396Z",
     "iopub.status.idle": "2023-06-23T22:26:51.607886Z",
     "shell.execute_reply": "2023-06-23T22:26:51.605910Z"
    },
    "papermill": {
     "duration": 3.768312,
     "end_time": "2023-06-23T22:26:51.611034",
     "exception": false,
     "start_time": "2023-06-23T22:26:47.842722",
     "status": "completed"
    },
    "tags": []
   },
   "outputs": [
    {
     "data": {
      "text/plain": [
       "\n",
       " classic_bike   docked_bike electric_bike \n",
       "        70616       2966113        504745 "
      ]
     },
     "metadata": {},
     "output_type": "display_data"
    },
    {
     "data": {
      "text/plain": [
       "\n",
       " casual  member \n",
       "1366550 2174924 "
      ]
     },
     "metadata": {},
     "output_type": "display_data"
    }
   ],
   "source": [
    "#Frequency Distribution:\n",
    "\n",
    "# Frequency distribution for categorical variables\n",
    "table(cyclistic_no_dups$rideable_type)\n",
    "table(cyclistic_no_dups$member_casual)"
   ]
  },
  {
   "cell_type": "code",
   "execution_count": 13,
   "id": "6d9e2d98",
   "metadata": {
    "execution": {
     "iopub.execute_input": "2023-06-23T22:26:51.640005Z",
     "iopub.status.busy": "2023-06-23T22:26:51.638211Z",
     "iopub.status.idle": "2023-06-23T22:26:51.755733Z",
     "shell.execute_reply": "2023-06-23T22:26:51.753908Z"
    },
    "papermill": {
     "duration": 0.134835,
     "end_time": "2023-06-23T22:26:51.758245",
     "exception": false,
     "start_time": "2023-06-23T22:26:51.623410",
     "status": "completed"
    },
    "tags": []
   },
   "outputs": [
    {
     "data": {
      "text/html": [
       "'Mean of ride length: 1591.39626409794'"
      ],
      "text/latex": [
       "'Mean of ride length: 1591.39626409794'"
      ],
      "text/markdown": [
       "'Mean of ride length: 1591.39626409794'"
      ],
      "text/plain": [
       "[1] \"Mean of ride length: 1591.39626409794\""
      ]
     },
     "metadata": {},
     "output_type": "display_data"
    },
    {
     "data": {
      "text/html": [
       "'Max of ride length: 9387024'"
      ],
      "text/latex": [
       "'Max of ride length: 9387024'"
      ],
      "text/markdown": [
       "'Max of ride length: 9387024'"
      ],
      "text/plain": [
       "[1] \"Max of ride length: 9387024\""
      ]
     },
     "metadata": {},
     "output_type": "display_data"
    },
    {
     "data": {
      "text/html": [
       "'Standard deviation of ride length: 22893.4228613153'"
      ],
      "text/latex": [
       "'Standard deviation of ride length: 22893.4228613153'"
      ],
      "text/markdown": [
       "'Standard deviation of ride length: 22893.4228613153'"
      ],
      "text/plain": [
       "[1] \"Standard deviation of ride length: 22893.4228613153\""
      ]
     },
     "metadata": {},
     "output_type": "display_data"
    },
    {
     "data": {
      "text/html": [
       "'Variance of ride length: 524108810.306995'"
      ],
      "text/latex": [
       "'Variance of ride length: 524108810.306995'"
      ],
      "text/markdown": [
       "'Variance of ride length: 524108810.306995'"
      ],
      "text/plain": [
       "[1] \"Variance of ride length: 524108810.306995\""
      ]
     },
     "metadata": {},
     "output_type": "display_data"
    }
   ],
   "source": [
    "#Measures of Central Tendency and Dispersion:\n",
    "\n",
    "# Mean and max of ride length\n",
    "mean_value <- mean(cyclistic_no_dups$ride_length)\n",
    "max_value <- max(cyclistic_no_dups$ride_length)\n",
    "\n",
    "# Standard deviation and variance of ride length\n",
    "sd_value <- sd(cyclistic_no_dups$ride_length)\n",
    "var_value <- var(cyclistic_no_dups$ride_length)\n",
    "\n",
    "# Display the outputs with descriptive strings\n",
    "paste(\"Mean of ride length:\", mean_value)\n",
    "paste(\"Max of ride length:\", max_value)\n",
    "paste(\"Standard deviation of ride length:\", sd_value)\n",
    "paste(\"Variance of ride length:\", var_value)\n"
   ]
  },
  {
   "cell_type": "code",
   "execution_count": 14,
   "id": "b15718d6",
   "metadata": {
    "execution": {
     "iopub.execute_input": "2023-06-23T22:26:51.787387Z",
     "iopub.status.busy": "2023-06-23T22:26:51.785788Z",
     "iopub.status.idle": "2023-06-23T22:26:52.123608Z",
     "shell.execute_reply": "2023-06-23T22:26:52.121653Z"
    },
    "papermill": {
     "duration": 0.355476,
     "end_time": "2023-06-23T22:26:52.126082",
     "exception": false,
     "start_time": "2023-06-23T22:26:51.770606",
     "status": "completed"
    },
    "tags": []
   },
   "outputs": [
    {
     "data": {
      "text/plain": [
       "               \n",
       "                 casual  member\n",
       "  classic_bike    11319   59297\n",
       "  docked_bike   1146005 1820108\n",
       "  electric_bike  209226  295519"
      ]
     },
     "metadata": {},
     "output_type": "display_data"
    }
   ],
   "source": [
    "#Cross-tabulations:\n",
    "\n",
    "# Cross-tabulation between rideable_type and member_casual\n",
    "table(cyclistic_no_dups$rideable_type, cyclistic_no_dups$member_casual)\n"
   ]
  },
  {
   "cell_type": "markdown",
   "id": "48f0f14c",
   "metadata": {
    "papermill": {
     "duration": 0.012444,
     "end_time": "2023-06-23T22:26:52.151068",
     "exception": false,
     "start_time": "2023-06-23T22:26:52.138624",
     "status": "completed"
    },
    "tags": []
   },
   "source": []
  },
  {
   "cell_type": "code",
   "execution_count": 15,
   "id": "665129e0",
   "metadata": {
    "execution": {
     "iopub.execute_input": "2023-06-23T22:26:52.180123Z",
     "iopub.status.busy": "2023-06-23T22:26:52.178468Z",
     "iopub.status.idle": "2023-06-23T22:27:19.130849Z",
     "shell.execute_reply": "2023-06-23T22:27:19.128658Z"
    },
    "papermill": {
     "duration": 26.970771,
     "end_time": "2023-06-23T22:27:19.134491",
     "exception": false,
     "start_time": "2023-06-23T22:26:52.163720",
     "status": "completed"
    },
    "tags": []
   },
   "outputs": [
    {
     "name": "stderr",
     "output_type": "stream",
     "text": [
      "Installing package into ‘/usr/local/lib/R/site-library’\n",
      "(as ‘lib’ is unspecified)\n",
      "\n",
      "\n",
      "Attaching package: ‘reshape2’\n",
      "\n",
      "\n",
      "The following object is masked from ‘package:tidyr’:\n",
      "\n",
      "    smiths\n",
      "\n",
      "\n"
     ]
    },
    {
     "name": "stdout",
     "output_type": "stream",
     "text": [
      "  .   casual  member\n",
      "1 . 2770.626 850.462\n",
      "  day_of_week   casual    member\n",
      "1           1 3247.111 1085.1372\n",
      "2           2 2780.279  893.8710\n",
      "3           3 1882.603  242.5618\n",
      "4           4 2550.459  884.5852\n",
      "5           5 2775.929  884.4784\n",
      "6           6 2713.209  928.1545\n",
      "7           7 2907.824 1066.9779\n",
      "  day_of_week casual member\n",
      "1           1 256148 271072\n",
      "2           2 141652 292044\n",
      "3           3 137547 315311\n",
      "4           4 152524 329484\n",
      "5           5 162689 328589\n",
      "6           6 202187 326048\n",
      "7           7 313803 312376\n"
     ]
    }
   ],
   "source": [
    "# Install and load reshape2 package\n",
    "install.packages(\"reshape2\")\n",
    "library(reshape2)\n",
    "\n",
    "# Pivot table: Average ride_length for members and casual riders\n",
    "pivot_table1 <- dcast(cyclistic_no_dups, formula = . ~ member_casual, \n",
    "                     value.var = \"ride_length\", fun.aggregate = mean)\n",
    "\n",
    "# Pivot table: Average ride_length for users by day_of_week\n",
    "pivot_table2 <- dcast(cyclistic_no_dups, formula = day_of_week ~ member_casual, \n",
    "                     value.var = \"ride_length\", fun.aggregate = mean)\n",
    "\n",
    "# Pivot table: Number of rides for users by day_of_week\n",
    "cyclistic_no_dups$ride_count <- 1\n",
    "pivot_table3 <- dcast(cyclistic_no_dups, formula = day_of_week ~ member_casual, \n",
    "                     value.var = \"ride_count\", fun.aggregate = sum)\n",
    "\n",
    "# Print pivot tables\n",
    "print(pivot_table1)\n",
    "print(pivot_table2)\n",
    "print(pivot_table3)\n"
   ]
  },
  {
   "cell_type": "code",
   "execution_count": 16,
   "id": "988efdeb",
   "metadata": {
    "execution": {
     "iopub.execute_input": "2023-06-23T22:27:19.166325Z",
     "iopub.status.busy": "2023-06-23T22:27:19.164608Z",
     "iopub.status.idle": "2023-06-23T22:27:19.188135Z",
     "shell.execute_reply": "2023-06-23T22:27:19.186230Z"
    },
    "papermill": {
     "duration": 0.043018,
     "end_time": "2023-06-23T22:27:19.191590",
     "exception": false,
     "start_time": "2023-06-23T22:27:19.148572",
     "status": "completed"
    },
    "tags": []
   },
   "outputs": [],
   "source": [
    "# Export pivot tables to CSV files\n",
    "write.csv(pivot_table1, file = \"pivot_table1.csv\", row.names = FALSE)\n",
    "write.csv(pivot_table2, file = \"pivot_table2.csv\", row.names = FALSE)\n",
    "write.csv(pivot_table3, file = \"pivot_table3.csv\", row.names = FALSE)\n"
   ]
  },
  {
   "cell_type": "code",
   "execution_count": 17,
   "id": "c02734c5",
   "metadata": {
    "execution": {
     "iopub.execute_input": "2023-06-23T22:27:19.221843Z",
     "iopub.status.busy": "2023-06-23T22:27:19.220080Z",
     "iopub.status.idle": "2023-06-23T22:28:56.072726Z",
     "shell.execute_reply": "2023-06-23T22:28:56.070512Z"
    },
    "papermill": {
     "duration": 96.871306,
     "end_time": "2023-06-23T22:28:56.075977",
     "exception": false,
     "start_time": "2023-06-23T22:27:19.204671",
     "status": "completed"
    },
    "tags": []
   },
   "outputs": [],
   "source": [
    "write.csv(cyclistic_no_dups, file = \"cyclistic_no_dups.csv\", row.names = FALSE)"
   ]
  },
  {
   "cell_type": "markdown",
   "id": "ec68d810",
   "metadata": {
    "papermill": {
     "duration": 0.012994,
     "end_time": "2023-06-23T22:28:56.104325",
     "exception": false,
     "start_time": "2023-06-23T22:28:56.091331",
     "status": "completed"
    },
    "tags": []
   },
   "source": [
    "7. Share Phase\n",
    "\n",
    "After analyzing the data, it was possible to finally answer the question of \"how annual members and casual riders use Cyclistic bikes differently?\"\n",
    "\n",
    "Data visualization using Tableau software, can be accessed at https://public.tableau.com/views/Cyclistic_Bike_Share_Case_Study/Cyclistic_Bike_Share_Case_Study?:language=en-US&:display_count=n&:origin=viz_share_link"
   ]
  },
  {
   "cell_type": "markdown",
   "id": "98749377",
   "metadata": {
    "papermill": {
     "duration": 0.013243,
     "end_time": "2023-06-23T22:28:56.130470",
     "exception": false,
     "start_time": "2023-06-23T22:28:56.117227",
     "status": "completed"
    },
    "tags": []
   },
   "source": [
    "Findings:\n",
    "\n",
    "* The data shows that Members perform more rides than Casual users, around 38% more. However, Casual users use to ride longer distances than Members, around 50% more. The same for the time spent per ride, Casual users use to spend 50% more time riding than Members.\n",
    "* Also, both categories of users prefer docker bikes.\n",
    "* The graphics show that for Casual users, on Fridays, Saturday and Sundays there is an increase in the number os rides, which decreases abruptaly on Tuesday, but gradually increases again during the week until the Weekend. The difference between the busiest day and the quietest day is around 56%. This does not happen to members. The difference between the days of week is minimum, nothing more than 13%.\n",
    "* The average of ride length for Casual users is of 2771 seconds, which means 46 minutes, while for members is only 850 seconds, or 14 minutes.\n",
    "* The last finding is that Sunday is the day with more long rides for both groups, while Tuesday is the day with less rides distances.\n"
   ]
  },
  {
   "cell_type": "markdown",
   "id": "3f4f6527",
   "metadata": {
    "papermill": {
     "duration": 0.012829,
     "end_time": "2023-06-23T22:28:56.156198",
     "exception": false,
     "start_time": "2023-06-23T22:28:56.143369",
     "status": "completed"
    },
    "tags": []
   },
   "source": [
    "8. Act phase\n",
    "\n",
    "Targeted Marketing Campaigns: The data shows that casual riders tend to ride longer distances and spend more time riding than members. This insight can be used to develop targeted marketing campaigns highlighting the flexibility and convenience of casual riding, emphasizing the ability to ride for longer durations without the commitment of an annual membership.\n",
    "\n",
    "Pricing and Subscription Strategies: The data reveals that members perform more rides than casual users. This information can inform pricing and subscription strategies, such as offering discounted rates for frequent riders or introducing flexible membership options for those who ride occasionally. Adjusting pricing and subscription models to cater to the usage patterns of both casual riders and members can encourage more conversions.\n",
    "\n",
    "Enhancing User Experience: The finding that both categories of users prefer docked bikes suggests that ensuring an adequate supply of docked bikes in popular areas can improve the user experience. By analyzing the data on popular ride times and locations, Cyclistic can optimize bike availability and distribution to meet user demand.\n",
    "\n",
    "Customer Retention: Although the focus is on converting casual riders into members, it's essential to maintain a positive relationship with existing members. The data indicates that members ride consistently throughout the week, while casual riders show variations in their riding patterns. By providing targeted incentives and rewards for members, Cyclistic can enhance member loyalty and reduce churn.\n",
    "\n",
    "Operational Efficiency: Analyzing the busiest and quietest days for both user categories can help optimize resource allocation and operational efficiency. By aligning staffing levels, bike maintenance schedules, and marketing efforts to match demand fluctuations, Cyclistic can improve overall operational performance.\n",
    "\n",
    "Partnerships and Collaborations: By identifying the preferred ride days and average ride length for each user category, Cyclistic can explore partnerships with local businesses or event organizers to offer targeted promotions and incentives on specific days. This can encourage ridership and attract new customers, including casual riders who may be more inclined to use the service during certain events or weekends.\n",
    "\n"
   ]
  }
 ],
 "metadata": {
  "kernelspec": {
   "display_name": "R",
   "language": "R",
   "name": "ir"
  },
  "language_info": {
   "codemirror_mode": "r",
   "file_extension": ".r",
   "mimetype": "text/x-r-source",
   "name": "R",
   "pygments_lexer": "r",
   "version": "4.0.5"
  },
  "papermill": {
   "default_parameters": {},
   "duration": 349.252377,
   "end_time": "2023-06-23T22:28:56.593194",
   "environment_variables": {},
   "exception": null,
   "input_path": "__notebook__.ipynb",
   "output_path": "__notebook__.ipynb",
   "parameters": {},
   "start_time": "2023-06-23T22:23:07.340817",
   "version": "2.4.0"
  }
 },
 "nbformat": 4,
 "nbformat_minor": 5
}
